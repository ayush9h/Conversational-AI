{
  "cells": [
    {
      "cell_type": "code",
      "execution_count": 97,
      "metadata": {
        "colab": {
          "base_uri": "https://localhost:8080/",
          "height": 206
        },
        "id": "rjL4Uw1dC6f9",
        "outputId": "67d19864-4b5f-4410-e3cd-f521938bf781"
      },
      "outputs": [
        {
          "data": {
            "text/html": [
              "<div>\n",
              "<style scoped>\n",
              "    .dataframe tbody tr th:only-of-type {\n",
              "        vertical-align: middle;\n",
              "    }\n",
              "\n",
              "    .dataframe tbody tr th {\n",
              "        vertical-align: top;\n",
              "    }\n",
              "\n",
              "    .dataframe thead th {\n",
              "        text-align: right;\n",
              "    }\n",
              "</style>\n",
              "<table border=\"1\" class=\"dataframe\">\n",
              "  <thead>\n",
              "    <tr style=\"text-align: right;\">\n",
              "      <th></th>\n",
              "      <th>article_id</th>\n",
              "      <th>article_desc</th>\n",
              "    </tr>\n",
              "  </thead>\n",
              "  <tbody>\n",
              "    <tr>\n",
              "      <th>0</th>\n",
              "      <td>Article 1 of Indian Constitution</td>\n",
              "      <td>Name and territory of the Union India, that is...</td>\n",
              "    </tr>\n",
              "    <tr>\n",
              "      <th>1</th>\n",
              "      <td>Article 2 of Indian Constitution</td>\n",
              "      <td>Admission or establishment of new States: Parl...</td>\n",
              "    </tr>\n",
              "    <tr>\n",
              "      <th>2</th>\n",
              "      <td>Article 2A of Indian Constitution</td>\n",
              "      <td>Sikkim to be associated with the Union Rep by ...</td>\n",
              "    </tr>\n",
              "    <tr>\n",
              "      <th>3</th>\n",
              "      <td>Article 3 of Indian Constitution</td>\n",
              "      <td>Formation of new States and alteration of area...</td>\n",
              "    </tr>\n",
              "    <tr>\n",
              "      <th>4</th>\n",
              "      <td>Article 4 of Indian Constitution</td>\n",
              "      <td>Laws made under Articles 2 and 3 to provide fo...</td>\n",
              "    </tr>\n",
              "  </tbody>\n",
              "</table>\n",
              "</div>"
            ],
            "text/plain": [
              "                          article_id  \\\n",
              "0   Article 1 of Indian Constitution   \n",
              "1   Article 2 of Indian Constitution   \n",
              "2  Article 2A of Indian Constitution   \n",
              "3   Article 3 of Indian Constitution   \n",
              "4   Article 4 of Indian Constitution   \n",
              "\n",
              "                                        article_desc  \n",
              "0  Name and territory of the Union India, that is...  \n",
              "1  Admission or establishment of new States: Parl...  \n",
              "2  Sikkim to be associated with the Union Rep by ...  \n",
              "3  Formation of new States and alteration of area...  \n",
              "4  Laws made under Articles 2 and 3 to provide fo...  "
            ]
          },
          "execution_count": 97,
          "metadata": {},
          "output_type": "execute_result"
        }
      ],
      "source": [
        "import pandas as pd\n",
        "import numpy as np\n",
        "df = pd.read_csv(\"./datasets/Final_IC.csv\")\n",
        "df.head(5)"
      ]
    },
    {
      "cell_type": "code",
      "execution_count": 98,
      "metadata": {
        "id": "0tdOspR3guv5"
      },
      "outputs": [],
      "source": [
        "df['ques'] = 'What is ' + df['article_id'].astype(str)\n",
        "df['ans'] = df['article_id'].astype(str) + ' states that ' + df['article_desc']\n",
        "df.drop('article_id',inplace=True,axis=1)\n",
        "df.drop('article_desc',inplace=True,axis = 1)"
      ]
    },
    {
      "cell_type": "markdown",
      "metadata": {},
      "source": [
        "## Conversion in format of BERT Pre-trained Model"
      ]
    },
    {
      "cell_type": "code",
      "execution_count": 99,
      "metadata": {},
      "outputs": [],
      "source": [
        "data_list = []\n",
        "\n",
        "for index, row in df.iterrows():\n",
        "    data_dict = {\n",
        "        'question': row['ques'],\n",
        "        'context': row['ans']\n",
        "    }\n",
        "    data_list.append(data_dict)"
      ]
    },
    {
      "cell_type": "code",
      "execution_count": 100,
      "metadata": {},
      "outputs": [
        {
          "data": {
            "text/plain": [
              "{'question': 'What is Article 292 of Indian Constitution',\n",
              " 'context': 'Article 292 of Indian Constitution states that Borrowing by the Government of India The executive power of the Union extends to borrowing upon the security of the Consolidated Fund of India within such limits, if any, as may from time to time be fixed by Parliament by law and to the giving of guarantees within such limits, if any, as may be so fixed'}"
            ]
          },
          "execution_count": 100,
          "metadata": {},
          "output_type": "execute_result"
        }
      ],
      "source": [
        "data_list[343]"
      ]
    },
    {
      "cell_type": "markdown",
      "metadata": {},
      "source": [
        "## Importing the BERT Language Model"
      ]
    },
    {
      "cell_type": "code",
      "execution_count": 122,
      "metadata": {},
      "outputs": [],
      "source": [
        "from transformers import AutoModelForQuestionAnswering, AutoTokenizer,Trainer, TrainingArguments\n",
        "import torch\n",
        "model_name = 'deepset/roberta-base-squad2'\n",
        "model_bert = AutoModelForQuestionAnswering.from_pretrained(model_name)\n",
        "tokenizer_bert = AutoTokenizer.from_pretrained(model_name)"
      ]
    },
    {
      "cell_type": "markdown",
      "metadata": {},
      "source": [
        "Defining the inputs and outputs"
      ]
    },
    {
      "cell_type": "code",
      "execution_count": 102,
      "metadata": {},
      "outputs": [],
      "source": [
        "input0 = tokenizer_bert(data_list[4]['question'],data_list[4]['context'],return_tensors='pt')\n",
        "output0 = model_bert(**input0)"
      ]
    },
    {
      "cell_type": "markdown",
      "metadata": {},
      "source": [
        "Detokenizing the answer using .decode()"
      ]
    },
    {
      "cell_type": "code",
      "execution_count": 103,
      "metadata": {},
      "outputs": [
        {
          "name": "stdout",
          "output_type": "stream",
          "text": [
            "Question: What is Article 4 of Indian Constitution\n",
            "Answer:  Laws made under Articles 2 and 3 to provide for the amendment of the First and the Fourth Schedules and supplemental, incidental and consequential matters\n"
          ]
        }
      ],
      "source": [
        "answer_start_idx = torch.argmax(output0.start_logits)\n",
        "answer_end_idx = torch.argmax(output0.end_logits)\n",
        "\n",
        "answer_tokens = input0.input_ids[0,answer_start_idx:answer_end_idx + 1]\n",
        "answer = tokenizer_bert.decode(answer_tokens)\n",
        "print(\"Question: {}\\nAnswer: {}\".format(data_list[4]['question'],answer))"
      ]
    },
    {
      "cell_type": "markdown",
      "metadata": {},
      "source": [
        "## Using LSTM"
      ]
    },
    {
      "cell_type": "code",
      "execution_count": 64,
      "metadata": {},
      "outputs": [],
      "source": [
        "import tensorflow as tf\n",
        "Tokenizer = tf.keras.preprocessing.text.Tokenizer\n",
        "pad_sequences = tf.keras.preprocessing.sequence.pad_sequences\n",
        "Sequential = tf.keras.models.Sequential\n",
        "Embedding = tf.keras.layers.Embedding\n",
        "SimpleRNN = tf.keras.layers.SimpleRNN\n",
        "Dense = tf.keras.layers.Dense\n",
        "LSTM = tf.keras.layers.LSTM\n",
        "GRU = tf.keras.layers.GRU\n",
        "Dropout = tf.keras.layers.Dropout"
      ]
    },
    {
      "cell_type": "code",
      "execution_count": 58,
      "metadata": {},
      "outputs": [],
      "source": [
        "questions = df['ques'].tolist()\n",
        "answers = df['ans'].tolist()"
      ]
    },
    {
      "cell_type": "code",
      "execution_count": 119,
      "metadata": {},
      "outputs": [],
      "source": [
        "tokenizer = Tokenizer(char_level=True, lower=True)\n",
        "tokenizer.fit_on_texts(answers)\n",
        "\n",
        "# Convert text to sequences\n",
        "sequences = tokenizer.texts_to_sequences(answers)[0]\n",
        "\n",
        "# Prepare input and target sequences\n",
        "input_sequences = []\n",
        "output_sequences = []\n",
        "\n",
        "sequence_length = 250\n",
        "for i in range(len(sequences) - sequence_length):\n",
        "    input_sequences.append(sequences[i:i + sequence_length])\n",
        "    output_sequences.append(sequences[i + sequence_length])\n",
        "\n",
        "input_sequences = np.array(input_sequences)\n",
        "output_sequences = np.array(output_sequences)\n",
        "\n",
        "vocab_size = len(tokenizer.word_index) + 1"
      ]
    },
    {
      "cell_type": "code",
      "execution_count": 120,
      "metadata": {},
      "outputs": [
        {
          "name": "stdout",
          "output_type": "stream",
          "text": [
            "Model: \"sequential_11\"\n",
            "_________________________________________________________________\n",
            " Layer (type)                Output Shape              Param #   \n",
            "=================================================================\n",
            " embedding_11 (Embedding)    (None, 250, 32)           1408      \n",
            "                                                                 \n",
            " lstm_13 (LSTM)              (None, 250, 128)          82432     \n",
            "                                                                 \n",
            " lstm_14 (LSTM)              (None, 128)               131584    \n",
            "                                                                 \n",
            " dense_14 (Dense)            (None, 44)                5676      \n",
            "                                                                 \n",
            "=================================================================\n",
            "Total params: 221100 (863.67 KB)\n",
            "Trainable params: 221100 (863.67 KB)\n",
            "Non-trainable params: 0 (0.00 Byte)\n",
            "_________________________________________________________________\n"
          ]
        }
      ],
      "source": [
        "model = Sequential([\n",
        "    Embedding(vocab_size, 32, input_length=sequence_length),\n",
        "    LSTM(128, return_sequences=True, dropout=0.2, recurrent_dropout=0.2),\n",
        "    LSTM(128, dropout=0.2, recurrent_dropout=0.2),\n",
        "    Dense(vocab_size, activation=\"softmax\"),\n",
        "])\n",
        "\n",
        "model.compile(loss=\"sparse_categorical_crossentropy\", optimizer=\"adam\", metrics=[\"accuracy\"])\n",
        "model.summary()"
      ]
    },
    {
      "cell_type": "code",
      "execution_count": 121,
      "metadata": {},
      "outputs": [
        {
          "name": "stdout",
          "output_type": "stream",
          "text": [
            "Epoch 1/100\n",
            "4/4 [==============================] - 6s 838ms/step - loss: 3.7708 - accuracy: 0.0469\n",
            "Epoch 2/100\n",
            "4/4 [==============================] - 4s 901ms/step - loss: 3.6471 - accuracy: 0.1406\n",
            "Epoch 3/100\n",
            "4/4 [==============================] - 4s 912ms/step - loss: 3.1013 - accuracy: 0.1328\n",
            "Epoch 4/100\n",
            "4/4 [==============================] - 4s 904ms/step - loss: 2.8521 - accuracy: 0.1094\n",
            "Epoch 5/100\n",
            "4/4 [==============================] - 4s 977ms/step - loss: 2.7752 - accuracy: 0.1562\n",
            "Epoch 6/100\n",
            "4/4 [==============================] - 5s 1s/step - loss: 2.7395 - accuracy: 0.1484\n",
            "Epoch 7/100\n",
            "4/4 [==============================] - 5s 1s/step - loss: 2.7231 - accuracy: 0.1328\n",
            "Epoch 8/100\n",
            "4/4 [==============================] - 5s 1s/step - loss: 2.7009 - accuracy: 0.1406\n",
            "Epoch 9/100\n",
            "4/4 [==============================] - 6s 1s/step - loss: 2.6954 - accuracy: 0.1719\n",
            "Epoch 10/100\n",
            "4/4 [==============================] - 6s 1s/step - loss: 2.6972 - accuracy: 0.1562\n",
            "Epoch 11/100\n",
            "4/4 [==============================] - 5s 1s/step - loss: 2.6855 - accuracy: 0.1562\n",
            "Epoch 12/100\n",
            "4/4 [==============================] - 5s 1s/step - loss: 2.6839 - accuracy: 0.1484\n",
            "Epoch 13/100\n",
            "4/4 [==============================] - 5s 1s/step - loss: 2.6899 - accuracy: 0.1172\n",
            "Epoch 14/100\n",
            "4/4 [==============================] - 6s 1s/step - loss: 2.6856 - accuracy: 0.1484\n",
            "Epoch 15/100\n",
            "4/4 [==============================] - 5s 1s/step - loss: 2.6705 - accuracy: 0.1328\n",
            "Epoch 16/100\n",
            "4/4 [==============================] - 4s 1s/step - loss: 2.6748 - accuracy: 0.1562\n",
            "Epoch 17/100\n",
            "4/4 [==============================] - 4s 1s/step - loss: 2.6774 - accuracy: 0.1562\n",
            "Epoch 18/100\n",
            "4/4 [==============================] - 4s 971ms/step - loss: 2.6790 - accuracy: 0.1562\n",
            "Epoch 19/100\n",
            "4/4 [==============================] - 4s 1s/step - loss: 2.6728 - accuracy: 0.1719\n",
            "Epoch 20/100\n",
            "4/4 [==============================] - 4s 1s/step - loss: 2.6607 - accuracy: 0.1562\n",
            "Epoch 21/100\n",
            "4/4 [==============================] - 5s 1s/step - loss: 2.6785 - accuracy: 0.1484\n",
            "Epoch 22/100\n",
            "4/4 [==============================] - 4s 1s/step - loss: 2.6700 - accuracy: 0.1562\n",
            "Epoch 23/100\n",
            "4/4 [==============================] - 4s 1s/step - loss: 2.6743 - accuracy: 0.1484\n",
            "Epoch 24/100\n",
            "4/4 [==============================] - 4s 1s/step - loss: 2.6688 - accuracy: 0.1562\n",
            "Epoch 25/100\n",
            "4/4 [==============================] - 4s 1s/step - loss: 2.6692 - accuracy: 0.1562\n",
            "Epoch 26/100\n",
            "4/4 [==============================] - 4s 1s/step - loss: 2.6749 - accuracy: 0.1094\n",
            "Epoch 27/100\n",
            "4/4 [==============================] - 4s 1s/step - loss: 2.6803 - accuracy: 0.1719\n",
            "Epoch 28/100\n",
            "4/4 [==============================] - 4s 966ms/step - loss: 2.6636 - accuracy: 0.1406\n",
            "Epoch 29/100\n",
            "4/4 [==============================] - 4s 950ms/step - loss: 2.6712 - accuracy: 0.1562\n",
            "Epoch 30/100\n",
            "4/4 [==============================] - 4s 864ms/step - loss: 2.6662 - accuracy: 0.1562\n",
            "Epoch 31/100\n",
            "4/4 [==============================] - 4s 966ms/step - loss: 2.6746 - accuracy: 0.1562\n",
            "Epoch 32/100\n",
            "4/4 [==============================] - 4s 1s/step - loss: 2.6741 - accuracy: 0.1641\n",
            "Epoch 33/100\n",
            "4/4 [==============================] - 5s 1s/step - loss: 2.6586 - accuracy: 0.1562\n",
            "Epoch 34/100\n",
            "4/4 [==============================] - 4s 1s/step - loss: 2.6679 - accuracy: 0.1484\n",
            "Epoch 35/100\n",
            "4/4 [==============================] - 4s 983ms/step - loss: 2.6709 - accuracy: 0.1172\n",
            "Epoch 36/100\n",
            "4/4 [==============================] - 4s 1s/step - loss: 2.6681 - accuracy: 0.1641\n",
            "Epoch 37/100\n",
            "4/4 [==============================] - 4s 1s/step - loss: 2.6672 - accuracy: 0.1562\n",
            "Epoch 38/100\n",
            "4/4 [==============================] - 4s 1s/step - loss: 2.6691 - accuracy: 0.1562\n",
            "Epoch 39/100\n",
            "4/4 [==============================] - 4s 1s/step - loss: 2.6658 - accuracy: 0.1484\n",
            "Epoch 40/100\n",
            "4/4 [==============================] - 4s 1s/step - loss: 2.6654 - accuracy: 0.1641\n",
            "Epoch 41/100\n",
            "4/4 [==============================] - 4s 1s/step - loss: 2.6804 - accuracy: 0.1641\n",
            "Epoch 42/100\n",
            "4/4 [==============================] - 4s 1s/step - loss: 2.6733 - accuracy: 0.1719\n",
            "Epoch 43/100\n",
            "4/4 [==============================] - 4s 1s/step - loss: 2.6650 - accuracy: 0.1641\n",
            "Epoch 44/100\n",
            "4/4 [==============================] - 4s 1s/step - loss: 2.6701 - accuracy: 0.1562\n",
            "Epoch 45/100\n",
            "4/4 [==============================] - 4s 976ms/step - loss: 2.6631 - accuracy: 0.1562\n",
            "Epoch 46/100\n",
            "4/4 [==============================] - 4s 1s/step - loss: 2.6647 - accuracy: 0.1484\n",
            "Epoch 47/100\n",
            "4/4 [==============================] - 4s 1s/step - loss: 2.6596 - accuracy: 0.1719\n",
            "Epoch 48/100\n",
            "4/4 [==============================] - 4s 1s/step - loss: 2.6585 - accuracy: 0.1406\n",
            "Epoch 49/100\n",
            "4/4 [==============================] - 4s 995ms/step - loss: 2.6640 - accuracy: 0.1562\n",
            "Epoch 50/100\n",
            "4/4 [==============================] - 5s 1s/step - loss: 2.6587 - accuracy: 0.1562\n",
            "Epoch 51/100\n",
            "4/4 [==============================] - 4s 1s/step - loss: 2.6619 - accuracy: 0.1484\n",
            "Epoch 52/100\n",
            "4/4 [==============================] - 4s 1s/step - loss: 2.6615 - accuracy: 0.1484\n",
            "Epoch 53/100\n",
            "4/4 [==============================] - 4s 1s/step - loss: 2.6471 - accuracy: 0.1484\n",
            "Epoch 54/100\n",
            "4/4 [==============================] - 4s 1s/step - loss: 2.6623 - accuracy: 0.1719\n",
            "Epoch 55/100\n",
            "4/4 [==============================] - 5s 1s/step - loss: 2.6591 - accuracy: 0.1875\n",
            "Epoch 56/100\n",
            "4/4 [==============================] - 4s 1s/step - loss: 2.6426 - accuracy: 0.1562\n",
            "Epoch 57/100\n",
            "4/4 [==============================] - 4s 1000ms/step - loss: 2.6537 - accuracy: 0.1562\n",
            "Epoch 58/100\n",
            "4/4 [==============================] - 4s 971ms/step - loss: 2.6357 - accuracy: 0.2031\n",
            "Epoch 59/100\n",
            "4/4 [==============================] - 4s 991ms/step - loss: 2.6406 - accuracy: 0.2031\n",
            "Epoch 60/100\n",
            "4/4 [==============================] - 4s 1s/step - loss: 2.6247 - accuracy: 0.2109\n",
            "Epoch 61/100\n",
            "4/4 [==============================] - 5s 1s/step - loss: 2.6274 - accuracy: 0.1719\n",
            "Epoch 62/100\n",
            "4/4 [==============================] - 4s 1s/step - loss: 2.6150 - accuracy: 0.2031\n",
            "Epoch 63/100\n",
            "4/4 [==============================] - 4s 1s/step - loss: 2.6052 - accuracy: 0.2188\n",
            "Epoch 64/100\n",
            "4/4 [==============================] - 4s 1s/step - loss: 2.5862 - accuracy: 0.2422\n",
            "Epoch 65/100\n",
            "4/4 [==============================] - 4s 1s/step - loss: 2.5582 - accuracy: 0.2344\n",
            "Epoch 66/100\n",
            "4/4 [==============================] - 4s 1s/step - loss: 2.5667 - accuracy: 0.2344\n",
            "Epoch 67/100\n",
            "4/4 [==============================] - 4s 1s/step - loss: 2.5360 - accuracy: 0.2422\n",
            "Epoch 68/100\n",
            "4/4 [==============================] - 4s 964ms/step - loss: 2.5172 - accuracy: 0.2422\n",
            "Epoch 69/100\n",
            "4/4 [==============================] - 4s 1s/step - loss: 2.4983 - accuracy: 0.2422\n",
            "Epoch 70/100\n",
            "4/4 [==============================] - 4s 1s/step - loss: 2.4410 - accuracy: 0.2969\n",
            "Epoch 71/100\n",
            "4/4 [==============================] - 4s 1s/step - loss: 2.4347 - accuracy: 0.2891\n",
            "Epoch 72/100\n",
            "4/4 [==============================] - 4s 1s/step - loss: 2.4071 - accuracy: 0.2734\n",
            "Epoch 73/100\n",
            "4/4 [==============================] - 4s 1s/step - loss: 2.3620 - accuracy: 0.2656\n",
            "Epoch 74/100\n",
            "4/4 [==============================] - 4s 954ms/step - loss: 2.3261 - accuracy: 0.3203\n",
            "Epoch 75/100\n",
            "4/4 [==============================] - 4s 991ms/step - loss: 2.2877 - accuracy: 0.3359\n",
            "Epoch 76/100\n",
            "4/4 [==============================] - 4s 967ms/step - loss: 2.2838 - accuracy: 0.3359\n",
            "Epoch 77/100\n",
            "4/4 [==============================] - 4s 1s/step - loss: 2.2428 - accuracy: 0.3984\n",
            "Epoch 78/100\n",
            "4/4 [==============================] - 4s 990ms/step - loss: 2.2112 - accuracy: 0.3594\n",
            "Epoch 79/100\n",
            "4/4 [==============================] - 4s 959ms/step - loss: 2.1802 - accuracy: 0.3203\n",
            "Epoch 80/100\n",
            "4/4 [==============================] - 4s 995ms/step - loss: 2.1350 - accuracy: 0.3906\n",
            "Epoch 81/100\n",
            "4/4 [==============================] - 4s 980ms/step - loss: 2.0990 - accuracy: 0.3906\n",
            "Epoch 82/100\n",
            "4/4 [==============================] - 4s 997ms/step - loss: 2.0795 - accuracy: 0.3906\n",
            "Epoch 83/100\n",
            "4/4 [==============================] - 4s 935ms/step - loss: 2.0324 - accuracy: 0.4062\n",
            "Epoch 84/100\n",
            "4/4 [==============================] - 4s 972ms/step - loss: 1.9944 - accuracy: 0.4219\n",
            "Epoch 85/100\n",
            "4/4 [==============================] - 4s 1s/step - loss: 1.9958 - accuracy: 0.3906\n",
            "Epoch 86/100\n",
            "4/4 [==============================] - 4s 984ms/step - loss: 1.9328 - accuracy: 0.4297\n",
            "Epoch 87/100\n",
            "4/4 [==============================] - 4s 994ms/step - loss: 1.8865 - accuracy: 0.4609\n",
            "Epoch 88/100\n",
            "4/4 [==============================] - 4s 949ms/step - loss: 1.8791 - accuracy: 0.4688\n",
            "Epoch 89/100\n",
            "4/4 [==============================] - 4s 1s/step - loss: 1.8417 - accuracy: 0.4531\n",
            "Epoch 90/100\n",
            "4/4 [==============================] - 5s 1s/step - loss: 1.8094 - accuracy: 0.4766\n",
            "Epoch 91/100\n",
            "4/4 [==============================] - 4s 1s/step - loss: 1.8223 - accuracy: 0.4766\n",
            "Epoch 92/100\n",
            "4/4 [==============================] - 5s 1s/step - loss: 1.7622 - accuracy: 0.4531\n",
            "Epoch 93/100\n",
            "4/4 [==============================] - 5s 1s/step - loss: 1.7595 - accuracy: 0.4609\n",
            "Epoch 94/100\n",
            "4/4 [==============================] - 4s 1s/step - loss: 1.7768 - accuracy: 0.4453\n",
            "Epoch 95/100\n",
            "4/4 [==============================] - 4s 1s/step - loss: 1.6968 - accuracy: 0.5312\n",
            "Epoch 96/100\n",
            "4/4 [==============================] - 5s 1s/step - loss: 1.6892 - accuracy: 0.5078\n",
            "Epoch 97/100\n",
            "4/4 [==============================] - 5s 1s/step - loss: 1.6310 - accuracy: 0.5234\n",
            "Epoch 98/100\n",
            "4/4 [==============================] - 5s 1s/step - loss: 1.6191 - accuracy: 0.5000\n",
            "Epoch 99/100\n",
            "4/4 [==============================] - 5s 1s/step - loss: 1.5697 - accuracy: 0.5781\n",
            "Epoch 100/100\n",
            "4/4 [==============================] - 5s 1s/step - loss: 1.5466 - accuracy: 0.5547\n"
          ]
        },
        {
          "data": {
            "text/plain": [
              "<keras.src.callbacks.History at 0x245c89c2fb0>"
            ]
          },
          "execution_count": 121,
          "metadata": {},
          "output_type": "execute_result"
        }
      ],
      "source": [
        "epochs = 100\n",
        "batch_size = 32\n",
        "model.fit(input_sequences, output_sequences, epochs=epochs, batch_size=batch_size)"
      ]
    },
    {
      "cell_type": "code",
      "execution_count": null,
      "metadata": {},
      "outputs": [],
      "source": [
        "#model.save(\"partially_trained.keras\")"
      ]
    },
    {
      "cell_type": "code",
      "execution_count": 78,
      "metadata": {},
      "outputs": [],
      "source": [
        "def generate_text(seed_text, model, tokenizer, sequence_length, num_chars_to_generate):\n",
        "    generated_text = seed_text\n",
        "\n",
        "    for _ in range(num_chars_to_generate):\n",
        "        token_list = tokenizer.texts_to_sequences([generated_text])\n",
        "        token_list = pad_sequences(token_list, maxlen=sequence_length, padding=\"pre\")\n",
        "        predicted_probs = model.predict(token_list, verbose=0)\n",
        "        predicted_token = np.argmax(predicted_probs, axis=-1)[0]  #\n",
        "\n",
        "        output_word = \"\"\n",
        "        for word, index in tokenizer.word_index.items():\n",
        "            if index == predicted_token:\n",
        "                output_word = word\n",
        "                break\n",
        "\n",
        "        generated_text += output_word\n",
        "\n",
        "    return generated_text"
      ]
    },
    {
      "cell_type": "code",
      "execution_count": 81,
      "metadata": {},
      "outputs": [
        {
          "name": "stdout",
          "output_type": "stream",
          "text": [
            "2he theretes and the territories on the territories on the territories on the territories on the territories on the territories on the territories on the territories on the territories on the territories on the territories on the territories on the te\n"
          ]
        }
      ],
      "source": [
        "seed_text = \"2\"\n",
        "\n",
        "generated_text = generate_text(seed_text, model, tokenizer, sequence_length, num_chars_to_generate=250)\n",
        "print(generated_text)"
      ]
    },
    {
      "cell_type": "code",
      "execution_count": null,
      "metadata": {},
      "outputs": [],
      "source": []
    }
  ],
  "metadata": {
    "accelerator": "GPU",
    "colab": {
      "gpuType": "T4",
      "provenance": []
    },
    "kernelspec": {
      "display_name": "Python 3",
      "name": "python3"
    },
    "language_info": {
      "codemirror_mode": {
        "name": "ipython",
        "version": 3
      },
      "file_extension": ".py",
      "mimetype": "text/x-python",
      "name": "python",
      "nbconvert_exporter": "python",
      "pygments_lexer": "ipython3",
      "version": "3.10.6"
    }
  },
  "nbformat": 4,
  "nbformat_minor": 0
}
